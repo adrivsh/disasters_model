{
 "cells": [
  {
   "cell_type": "code",
   "execution_count": 7,
   "metadata": {
    "collapsed": true
   },
   "outputs": [],
   "source": [
    "#Import package for data analysis\n",
    "import sys\n",
    "from pandas import Series,DataFrame,read_csv\n",
    "import os\n",
    "import pandas as pd\n",
    "import numpy\n",
    "from scipy.interpolate import UnivariateSpline,interp1d"
   ]
  },
  {
   "cell_type": "code",
   "execution_count": 2,
   "metadata": {
    "collapsed": true
   },
   "outputs": [],
   "source": [
    "model             = os.getcwd() #get current directory\n",
    "finalhhdataframes = model+'/finalhhdataframes/' #get the final depository directory\n",
    "list_csv=os.listdir(finalhhdataframes) #list file name in the raw data directory\n",
    "farmer=pd.DataFrame()"
   ]
  },
  {
   "cell_type": "code",
   "execution_count": 8,
   "metadata": {
    "collapsed": true
   },
   "outputs": [],
   "source": [
    "def perc_with_spline(data, wt, percentiles):\n",
    "    assert numpy.greater_equal(percentiles, 0.0).all(), \"Percentiles less than zero\" \n",
    "    assert numpy.less_equal(percentiles, 1.0).all(), \"Percentiles greater than one\" \n",
    "    data = numpy.asarray(data) \n",
    "    assert len(data.shape) == 1 \n",
    "    if wt is None: \n",
    "        wt = numpy.ones(data.shape, numpy.float) \n",
    "    else: \n",
    "        wt = numpy.asarray(wt, numpy.float) \n",
    "        assert wt.shape == data.shape \n",
    "        assert numpy.greater_equal(wt, 0.0).all(), \"Not all weights are non-negative.\" \n",
    "    assert len(wt.shape) == 1 \n",
    "    i = numpy.argsort(data) \n",
    "    sd = numpy.take(data, i, axis=0)\n",
    "    sw = numpy.take(wt, i, axis=0) \n",
    "    aw = numpy.add.accumulate(sw) \n",
    "    if not aw[-1] > 0: \n",
    "     raise ValueError(\"Nonpositive weight sum\" )\n",
    "    w = (aw)/aw[-1] \n",
    "    # f = UnivariateSpline(w,sd,k=1)\n",
    "    f = interp1d(numpy.append([0],w),numpy.append([0],sd))\n",
    "    return f(percentiles)\n"
   ]
  },
  {
   "cell_type": "code",
   "execution_count": 11,
   "metadata": {
    "collapsed": false
   },
   "outputs": [
    {
     "data": {
      "text/plain": [
       "55.418897066493031"
      ]
     },
     "execution_count": 11,
     "metadata": {},
     "output_type": "execute_result"
    }
   ],
   "source": [
    "dec[0]"
   ]
  },
  {
   "cell_type": "code",
   "execution_count": 13,
   "metadata": {
    "collapsed": false
   },
   "outputs": [
    {
     "data": {
      "text/plain": [
       "Index(['idh', 'Y', 'totY', 'children', 'old', 'decile', 'cat1workers',\n",
       "       'cat2workers', 'cat3workers', 'cat4workers', 'cat5workers',\n",
       "       'cat6workers', 'cat7workers', 'nbpeople', 'weight'],\n",
       "      dtype='object')"
      ]
     },
     "execution_count": 13,
     "metadata": {},
     "output_type": "execute_result"
    }
   ],
   "source": [
    "df.columns"
   ]
  },
  {
   "cell_type": "code",
   "execution_count": 17,
   "metadata": {
    "collapsed": false
   },
   "outputs": [
    {
     "data": {
      "text/plain": [
       "count      1157.000000\n",
       "mean       7165.117996\n",
       "std       20397.102639\n",
       "min           0.000000\n",
       "25%        1013.635853\n",
       "50%        1971.011951\n",
       "75%        5143.247116\n",
       "max      311468.625552\n",
       "Name: weight, dtype: float64"
      ]
     },
     "execution_count": 17,
     "metadata": {},
     "output_type": "execute_result"
    }
   ],
   "source": [
    "df.weight.describe()"
   ]
  },
  {
   "cell_type": "code",
   "execution_count": 22,
   "metadata": {
    "collapsed": false
   },
   "outputs": [],
   "source": [
    "for filename in list_csv: \n",
    "    df=read_csv(finalhhdataframes+filename)\n",
    "    df = df[df.weight>0]\n",
    "    dec = perc_with_spline(df.Y,df.weight*df.nbpeople,[0.2])\n",
    "    df=df[df.Y<dec[0]]\n",
    "    farmer.ix[filename,'farm']=((df.cat3workers)*df.weight).sum()+((df.cat4workers)*df.weight).sum()\n",
    "    farmer.ix[filename,'popu']=sum(df[['cat1workers','cat2workers', 'cat3workers', 'cat4workers', 'cat5workers',\n",
    "       'cat6workers']].sum(axis=1)*df.weight)"
   ]
  },
  {
   "cell_type": "code",
   "execution_count": 23,
   "metadata": {
    "collapsed": true
   },
   "outputs": [],
   "source": [
    "farmer['ratio'] = farmer.farm/farmer.popu"
   ]
  },
  {
   "cell_type": "code",
   "execution_count": 24,
   "metadata": {
    "collapsed": false
   },
   "outputs": [
    {
     "data": {
      "text/plain": [
       "count    95.000000\n",
       "mean      0.585933\n",
       "std       0.275336\n",
       "min       0.001205\n",
       "25%       0.371082\n",
       "50%       0.650474\n",
       "75%       0.801366\n",
       "max       0.994117\n",
       "Name: ratio, dtype: float64"
      ]
     },
     "execution_count": 24,
     "metadata": {},
     "output_type": "execute_result"
    }
   ],
   "source": [
    "farmer.ratio.describe()"
   ]
  },
  {
   "cell_type": "code",
   "execution_count": 25,
   "metadata": {
    "collapsed": false
   },
   "outputs": [
    {
     "name": "stdout",
     "output_type": "stream",
     "text": [
      "0.595185124902\n"
     ]
    }
   ],
   "source": [
    "print(farmer.farm.sum()/farmer.popu.sum())"
   ]
  },
  {
   "cell_type": "code",
   "execution_count": 26,
   "metadata": {
    "collapsed": true
   },
   "outputs": [],
   "source": [
    "farmer.to_csv(\"stephane_farmer.csv\",encoding='utf-8',index=False)"
   ]
  },
  {
   "cell_type": "code",
   "execution_count": null,
   "metadata": {
    "collapsed": true
   },
   "outputs": [],
   "source": []
  }
 ],
 "metadata": {
  "kernelspec": {
   "display_name": "Python 3",
   "language": "python",
   "name": "python3"
  },
  "language_info": {
   "codemirror_mode": {
    "name": "ipython",
    "version": 3
   },
   "file_extension": ".py",
   "mimetype": "text/x-python",
   "name": "python",
   "nbconvert_exporter": "python",
   "pygments_lexer": "ipython3",
   "version": "3.3.5"
  }
 },
 "nbformat": 4,
 "nbformat_minor": 0
}
